{
 "cells": [
  {
   "cell_type": "markdown",
   "metadata": {
    "collapsed": true
   },
   "source": [
    "## Hacker New Post Analysis\n",
    "\n",
    "This will be an analysis of posts on the hacker news website. We will start by opening the dataset and counting the number of \"ask\" posts and \"show\" posts.  "
   ]
  },
  {
   "cell_type": "code",
   "execution_count": 5,
   "metadata": {},
   "outputs": [
    {
     "name": "stdout",
     "output_type": "stream",
     "text": [
      "[['id', 'title', 'url', 'num_points', 'num_comments', 'author', 'created_at'], ['12224879', 'Interactive Dynamic Video', 'http://www.interactivedynamicvideo.com/', '386', '52', 'ne0phyte', '8/4/2016 11:52'], ['10975351', 'How to Use Open Source and Shut the Fuck Up at the Same Time', 'http://hueniverse.com/2016/01/26/how-to-use-open-source-and-shut-the-fuck-up-at-the-same-time/', '39', '10', 'josep2', '1/26/2016 19:30'], ['11964716', \"Florida DJs May Face Felony for April Fools' Water Joke\", 'http://www.thewire.com/entertainment/2013/04/florida-djs-april-fools-water-joke/63798/', '2', '1', 'vezycash', '6/23/2016 22:20']]\n"
     ]
    }
   ],
   "source": [
    "from csv import reader\n",
    "\n",
    "opened_file = open('hacker_news.csv')\n",
    "read_file = reader(opened_file)\n",
    "hn = list(read_file)\n",
    "\n",
    "print(hn[0:4])\n",
    "\n"
   ]
  },
  {
   "cell_type": "code",
   "execution_count": 6,
   "metadata": {},
   "outputs": [
    {
     "name": "stdout",
     "output_type": "stream",
     "text": [
      "['id', 'title', 'url', 'num_points', 'num_comments', 'author', 'created_at']\n",
      "[['12224879', 'Interactive Dynamic Video', 'http://www.interactivedynamicvideo.com/', '386', '52', 'ne0phyte', '8/4/2016 11:52'], ['10975351', 'How to Use Open Source and Shut the Fuck Up at the Same Time', 'http://hueniverse.com/2016/01/26/how-to-use-open-source-and-shut-the-fuck-up-at-the-same-time/', '39', '10', 'josep2', '1/26/2016 19:30'], ['11964716', \"Florida DJs May Face Felony for April Fools' Water Joke\", 'http://www.thewire.com/entertainment/2013/04/florida-djs-april-fools-water-joke/63798/', '2', '1', 'vezycash', '6/23/2016 22:20'], ['11919867', 'Technology ventures: From Idea to Enterprise', 'https://www.amazon.com/Technology-Ventures-Enterprise-Thomas-Byers/dp/0073523429', '3', '1', 'hswarna', '6/17/2016 0:01']]\n"
     ]
    }
   ],
   "source": [
    "headers = hn[0]\n",
    "\n",
    "hn = hn[1:]\n",
    "\n",
    "print(headers)\n",
    "\n",
    "print(hn[0:4])"
   ]
  },
  {
   "cell_type": "code",
   "execution_count": 7,
   "metadata": {},
   "outputs": [
    {
     "name": "stdout",
     "output_type": "stream",
     "text": [
      "1744\n",
      "1162\n",
      "18938\n"
     ]
    }
   ],
   "source": [
    "ask_posts = []\n",
    "show_posts = []\n",
    "other_posts = []\n",
    "\n",
    "for row in hn: \n",
    "    title = row[1]\n",
    "    if title.lower().startswith('ask hn'):\n",
    "        ask_posts.append(row)\n",
    "    if title.lower().startswith('show hn'): \n",
    "        show_posts.append(row)\n",
    "    else:\n",
    "        other_posts.append(row)\n",
    "\n",
    "print(len(ask_posts))\n",
    "print(len(show_posts))\n",
    "print(len(other_posts))\n"
   ]
  },
  {
   "cell_type": "markdown",
   "metadata": {},
   "source": [
    "## Determining average number of comments for ask posts vs. show posts\n",
    "\n",
    "Now we will calculate the average comments for each type of post. "
   ]
  },
  {
   "cell_type": "code",
   "execution_count": 8,
   "metadata": {},
   "outputs": [
    {
     "name": "stdout",
     "output_type": "stream",
     "text": [
      "14.038417431192661\n"
     ]
    }
   ],
   "source": [
    "total_ask_comments = 0; \n",
    "\n",
    "for row in ask_posts: \n",
    "    num_comments = int(row[4])\n",
    "    total_ask_comments += num_comments\n",
    "\n",
    "avg_ask_comments = total_ask_comments/len(ask_posts)\n",
    "\n",
    "print(avg_ask_comments)"
   ]
  },
  {
   "cell_type": "code",
   "execution_count": 9,
   "metadata": {},
   "outputs": [
    {
     "name": "stdout",
     "output_type": "stream",
     "text": [
      "10.31669535283993\n"
     ]
    }
   ],
   "source": [
    "total_show_comments = 0; \n",
    "\n",
    "for row in show_posts: \n",
    "    num_comments = int(row[4])\n",
    "    total_show_comments += num_comments\n",
    "\n",
    "avg_show_comments = total_show_comments/len(show_posts)\n",
    "\n",
    "print(avg_show_comments)"
   ]
  },
  {
   "cell_type": "markdown",
   "metadata": {},
   "source": [
    "Based on these findings, it is clear that ask posts receive more comments than show posts. Specifically, ask posts receive just under 4 more comments than show posts. \n",
    "\n",
    "We will now focus on ask posts for the remainder of this analysis since they receive more comments on average. "
   ]
  },
  {
   "cell_type": "code",
   "execution_count": 10,
   "metadata": {},
   "outputs": [
    {
     "name": "stdout",
     "output_type": "stream",
     "text": [
      "{'09': 257, '13': 1282, '10': 794, '14': 1419, '16': 1831, '23': 544, '12': 691, '17': 1147, '15': 4478, '21': 1749, '20': 1724, '02': 1384, '18': 1441, '03': 422, '05': 493, '19': 1191, '01': 716, '22': 481, '08': 497, '04': 340, '00': 457, '06': 398, '07': 269, '11': 643}\n"
     ]
    }
   ],
   "source": [
    "import datetime as dt\n",
    "\n",
    "result_list = []\n",
    "\n",
    "for row in ask_posts: \n",
    "    created_at = row[6]\n",
    "    num_comments = int(row[4])\n",
    "    two_elements = [created_at, num_comments]\n",
    "    result_list.append(two_elements)\n",
    "    \n",
    "counts_by_hour = {}\n",
    "comments_by_hour = {}\n",
    "\n",
    "for row in result_list: \n",
    "    date_str = dt.datetime.strptime(row[0],\"%m/%d/%Y %H:%M\")\n",
    "    hour = dt.datetime.strftime(date_str,\"%H\")\n",
    "    \n",
    "    if hour not in counts_by_hour: \n",
    "        counts_by_hour[hour] = 1\n",
    "        comments_by_hour[hour] = row[1]\n",
    "        \n",
    "    if hour in counts_by_hour: \n",
    "        counts_by_hour[hour] += 1\n",
    "        comments_by_hour[hour] += row[1]\n",
    "    \n",
    "print(comments_by_hour)\n",
    "    \n",
    "    "
   ]
  },
  {
   "cell_type": "markdown",
   "metadata": {},
   "source": [
    "## Average comments per hour\n",
    "\n",
    "We will now calculate the average number of comments per hour."
   ]
  },
  {
   "cell_type": "code",
   "execution_count": 11,
   "metadata": {},
   "outputs": [
    {
     "name": "stdout",
     "output_type": "stream",
     "text": [
      "[['09', 5.586956521739131], ['13', 14.906976744186046], ['10', 13.233333333333333], ['14', 13.13888888888889], ['16', 16.798165137614678], ['23', 7.884057971014493], ['12', 9.337837837837839], ['17', 11.356435643564357], ['15', 38.27350427350427], ['21', 15.9], ['20', 21.28395061728395], ['02', 23.45762711864407], ['18', 13.1], ['03', 7.672727272727273], ['05', 10.48936170212766], ['19', 10.72972972972973], ['01', 11.737704918032787], ['22', 6.680555555555555], ['08', 10.142857142857142], ['04', 7.083333333333333], ['00', 8.160714285714286], ['06', 8.844444444444445], ['07', 7.685714285714286], ['11', 10.898305084745763]]\n"
     ]
    }
   ],
   "source": [
    "avg_comments = []\n",
    "\n",
    "for hour in counts_by_hour: \n",
    "    avg = comments_by_hour[hour]/counts_by_hour[hour]\n",
    "    avg_comments.append([hour, avg])\n",
    "    \n",
    "print(avg_comments)"
   ]
  },
  {
   "cell_type": "markdown",
   "metadata": {},
   "source": [
    "We now need to sort the list to be able to more easily view the results. "
   ]
  },
  {
   "cell_type": "code",
   "execution_count": 12,
   "metadata": {},
   "outputs": [
    {
     "name": "stdout",
     "output_type": "stream",
     "text": [
      "[[5.586956521739131, '09'], [14.906976744186046, '13'], [13.233333333333333, '10'], [13.13888888888889, '14'], [16.798165137614678, '16'], [7.884057971014493, '23'], [9.337837837837839, '12'], [11.356435643564357, '17'], [38.27350427350427, '15'], [15.9, '21'], [21.28395061728395, '20'], [23.45762711864407, '02'], [13.1, '18'], [7.672727272727273, '03'], [10.48936170212766, '05'], [10.72972972972973, '19'], [11.737704918032787, '01'], [6.680555555555555, '22'], [10.142857142857142, '08'], [7.083333333333333, '04'], [8.160714285714286, '00'], [8.844444444444445, '06'], [7.685714285714286, '07'], [10.898305084745763, '11']]\n"
     ]
    }
   ],
   "source": [
    "swap_avg_by_hour = []\n",
    "\n",
    "for row in avg_comments: \n",
    "    swap_avg_by_hour.append([row[1],row[0]])\n",
    "    \n",
    "print(swap_avg_by_hour) \n",
    "    \n",
    "    "
   ]
  },
  {
   "cell_type": "code",
   "execution_count": 19,
   "metadata": {
    "scrolled": true
   },
   "outputs": [
    {
     "name": "stdout",
     "output_type": "stream",
     "text": [
      "Top 5 Hours for Ask Post Comments\n",
      "15:00 : 38.27 average comments per post.\n",
      "02:00 : 23.46 average comments per post.\n",
      "20:00 : 21.28 average comments per post.\n",
      "16:00 : 16.80 average comments per post.\n"
     ]
    }
   ],
   "source": [
    "sorted_swap = sorted(swap_avg_by_hour, reverse = True)\n",
    "\n",
    "\n",
    "print(\"Top 5 Hours for Ask Post Comments\")\n",
    "\n",
    "for average in sorted_swap[0:4]: \n",
    "    datetime_object = dt.datetime.strptime((average[1]),\"%H\")\n",
    "    formatted_hour = datetime_object.strftime('%H:%M')\n",
    "    formatted_average = \"{:.2f}\".format(average[0])\n",
    "    \n",
    "    string = \"{hour} : {average} average comments per post.\".format(hour=formatted_hour, average=formatted_average)\n",
    "    \n",
    "    print(string)\n",
    "    "
   ]
  },
  {
   "cell_type": "markdown",
   "metadata": {},
   "source": [
    "We can conclude here that 3pm EST is the hour that receives the highest average comments per post."
   ]
  }
 ],
 "metadata": {
  "kernelspec": {
   "display_name": "Python 3",
   "language": "python",
   "name": "python3"
  },
  "language_info": {
   "codemirror_mode": {
    "name": "ipython",
    "version": 3
   },
   "file_extension": ".py",
   "mimetype": "text/x-python",
   "name": "python",
   "nbconvert_exporter": "python",
   "pygments_lexer": "ipython3",
   "version": "3.8.2"
  }
 },
 "nbformat": 4,
 "nbformat_minor": 2
}
